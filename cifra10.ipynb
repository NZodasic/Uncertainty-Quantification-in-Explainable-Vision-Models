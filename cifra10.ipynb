{
 "cells": [
  {
   "cell_type": "code",
   "execution_count": null,
   "id": "61366c96",
   "metadata": {},
   "outputs": [],
   "source": [
    "import torch\n",
    "import torch.nn as nn\n",
    "import torch.nn.functional as F\n",
    "import torch.optim as optim\n",
    "from torch.distributions import Normal\n",
    "from torchvision import datasets, transforms\n",
    "from torch.utils.data import DataLoader\n",
    "import matplotlib.pyplot as plt"
   ]
  },
  {
   "cell_type": "code",
   "execution_count": null,
   "id": "f5e01842",
   "metadata": {},
   "outputs": [],
   "source": [
    "# SimpleCNN điều chỉnh cho CIFAR-10 (3 channels, 32x32)\n",
    "class SimpleCNN(nn.Module):\n",
    "    def __init__(self):\n",
    "        super(SimpleCNN, self).__init__()\n",
    "        self.conv1 = nn.Conv2d(3, 32, kernel_size=3, padding=1)  # Thay 1 -> 3 channels\n",
    "        self.conv2 = nn.Conv2d(32, 64, kernel_size=3, padding=1)\n",
    "        self.dropout = nn.Dropout(0.25)  # Dropout cho UQ\n",
    "        self.fc1 = nn.Linear(4096, 128)  # Flatten size: 64*8*8 = 4096 sau pooling (32->16->8)\n",
    "        self.fc2 = nn.Linear(128, 10)\n",
    "\n",
    "    def forward(self, x):\n",
    "        x = F.relu(F.max_pool2d(self.conv1(x), 2))\n",
    "        x = F.relu(F.max_pool2d(self.conv2(x), 2))\n",
    "        x = x.view(x.size(0), -1)  # Flatten\n",
    "        x = F.relu(self.fc1(x))\n",
    "        x = self.dropout(x)  # Dropout active cho UQ\n",
    "        x = self.fc2(x)\n",
    "        return F.log_softmax(x, dim=1)  # Log probs cho NLL loss"
   ]
  },
  {
   "cell_type": "markdown",
   "id": "9c4d6daa",
   "metadata": {},
   "source": [
    "**Định nghĩa model:**\n",
    "\n",
    "- Trong class `SimpleCNN`, layer `self.dropout = nn.Dropout(0.25)` là nền tảng cho UQ (dropout được giữ active trong inference).\n",
    "  - **Khúc:** Dòng __init__ và `forward` (dòng `x = self.dropout(x)`).\n"
   ]
  },
  {
   "cell_type": "code",
   "execution_count": null,
   "id": "da7b1ef8",
   "metadata": {},
   "outputs": [],
   "source": [
    "# Training function (giữ nguyên)\n",
    "def train(model, device, train_loader, optimizer, epoch):\n",
    "    model.train()\n",
    "    for batch_idx, (data, target) in enumerate(train_loader):\n",
    "        data, target = data.to(device), target.to(device)\n",
    "        optimizer.zero_grad()\n",
    "        output = model(data)\n",
    "        loss = F.nll_loss(output, target)\n",
    "        loss.backward()\n",
    "        optimizer.step()"
   ]
  },
  {
   "cell_type": "code",
   "execution_count": null,
   "id": "c2528c92",
   "metadata": {},
   "outputs": [],
   "source": [
    "# Inference với MC Dropout cho UQ (giữ nguyên)\n",
    "def predict_with_uq(model, device, data, num_samples=20):\n",
    "    model.train()  # Enable dropout cho UQ\n",
    "    with torch.no_grad():\n",
    "        preds = torch.stack([model(data) for _ in range(num_samples)], dim=0)  # (num_samples, batch_size, num_classes)\n",
    "        probs = preds.exp()  # Convert log probs to probs\n",
    "        mean_probs = probs.mean(dim=0)  # Average predictions\n",
    "        uncertainty = probs.var(dim=0).mean(dim=1)  # Variance làm uncertainty (epistemic)\n",
    "    return mean_probs.argmax(dim=1), uncertainty  # Predicted class và uncertainty"
   ]
  },
  {
   "cell_type": "markdown",
   "id": "8c8caa5a",
   "metadata": {},
   "source": [
    "- **Hàm chính cho UQ:** Hàm `predict_with_uq` – toàn bộ hàm này tính UQ.\n",
    "  - Khúc cụ thể:\n",
    "    - `model.train()` để bật dropout.\n",
    "    - `preds = torch.stack([model(data) for _ in range(num_samples)], dim=0)`: Chạy nhiều pass.\n",
    "    - `uncertainty = probs.var(dim=0).mean(dim=1)`: Tính variance làm uncertainty.\n",
    "\n",
    "- **Sử dụng:** Trong phần evaluation (full test loop) và visualize sample, unc được tính và in ra (e.g., `preds, unc = predict_with_uq(...)`)."
   ]
  },
  {
   "cell_type": "code",
   "execution_count": null,
   "id": "873cc13b",
   "metadata": {},
   "outputs": [],
   "source": [
    "# Cập nhật transform cho CIFAR-10 (RGB, mean/std chuẩn)\n",
    "transform = transforms.Compose([\n",
    "    transforms.ToTensor(),\n",
    "    transforms.Normalize((0.4914, 0.4822, 0.4465), (0.2023, 0.1994, 0.2010))  # Normalize cho CIFAR-10\n",
    "])"
   ]
  },
  {
   "cell_type": "code",
   "execution_count": null,
   "id": "85b0d229",
   "metadata": {},
   "outputs": [],
   "source": [
    "# Load datasets\n",
    "device = torch.device(\"cuda\" if torch.cuda.is_available() else \"cpu\")\n",
    "train_dataset = datasets.CIFAR10('./data', train=True, download=True, transform=transform)\n",
    "test_dataset = datasets.CIFAR10('./data', train=False, download=True, transform=transform)\n",
    "train_loader = DataLoader(train_dataset, batch_size=64, shuffle=True)\n",
    "test_loader = DataLoader(test_dataset, batch_size=64, shuffle=False)"
   ]
  },
  {
   "cell_type": "code",
   "execution_count": null,
   "id": "ab42245c",
   "metadata": {},
   "outputs": [],
   "source": [
    "model = SimpleCNN().to(device)\n",
    "optimizer = optim.Adam(model.parameters(), lr=0.001)"
   ]
  },
  {
   "cell_type": "code",
   "execution_count": null,
   "id": "18eb9cd8",
   "metadata": {},
   "outputs": [],
   "source": [
    "# Train (tăng epochs để cải thiện)\n",
    "for epoch in range(1, 11):  # Tăng từ 3 lên 11 cho CIFAR-10\n",
    "    train(model, device, train_loader, optimizer, epoch)\n",
    "    print(f\"Epoch {epoch} completed\")  # Theo dõi tiến độ"
   ]
  },
  {
   "cell_type": "code",
   "execution_count": null,
   "id": "1e5e24e5",
   "metadata": {},
   "outputs": [],
   "source": [
    "# Full test evaluation\n",
    "correct = 0\n",
    "total = 0\n",
    "uncertainties = []\n",
    "for data, targets in test_loader:\n",
    "    data, targets = data.to(device), targets.to(device)\n",
    "    preds, unc = predict_with_uq(model, device, data)\n",
    "    correct += (preds == targets).sum().item()\n",
    "    total += targets.size(0)\n",
    "    uncertainties.extend(unc.cpu().numpy().tolist())"
   ]
  },
  {
   "cell_type": "code",
   "execution_count": null,
   "id": "887a7707",
   "metadata": {},
   "outputs": [],
   "source": [
    "accuracy = correct / total\n",
    "avg_uncertainty = sum(uncertainties) / len(uncertainties)\n",
    "print(f\"Test Accuracy: {accuracy:.4f}, Average Uncertainty: {avg_uncertainty:.6f}\")"
   ]
  },
  {
   "cell_type": "code",
   "execution_count": null,
   "id": "b279f5eb",
   "metadata": {},
   "outputs": [],
   "source": [
    "# Ví dụ: Visualize một misclassified sample (e.g., index 0 trong test_dataset)\n",
    "test_image, test_label = test_dataset[0]\n",
    "test_image = test_image.unsqueeze(0).to(device)\n",
    "preds, unc = predict_with_uq(model, device, test_image)\n",
    "pred = preds[0].item()\n",
    "unc_val = unc[0].item()\n",
    "plt.imshow(test_image[0].cpu().permute(1, 2, 0).numpy())  # RGB nên permute\n",
    "plt.title(f\"Ground Truth: {test_label}, Predicted: {pred}, Uncertainty: {unc_val:.6f}\")\n",
    "plt.show()"
   ]
  }
 ],
 "metadata": {
  "kernelspec": {
   "display_name": ".venv",
   "language": "python",
   "name": "python3"
  },
  "language_info": {
   "name": "python",
   "version": "3.12.10"
  }
 },
 "nbformat": 4,
 "nbformat_minor": 5
}
